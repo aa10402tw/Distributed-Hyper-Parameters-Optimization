{
 "cells": [
  {
   "cell_type": "code",
   "execution_count": 1,
   "metadata": {
    "code_folding": [
     0
    ]
   },
   "outputs": [],
   "source": [
    "# Package\n",
    "from __future__ import print_function  \n",
    "import torch     \n",
    "import torch.nn as nn\n",
    "import torch.nn.functional as F\n",
    "import torch.optim as optim\n",
    "from torchvision import datasets, transforms\n",
    "from torch.autograd import Variable\n",
    "\n",
    "from tqdm import tqdm_notebook as tqdm\n",
    "# from mpi4py import MPI\n",
    "import time\n",
    "import os \n",
    "import glob\n",
    "from argparse import ArgumentParser\n",
    "from evolutionSearch import *\n",
    "from mnist_utils import *\n",
    "import numpy as np"
   ]
  },
  {
   "cell_type": "code",
   "execution_count": 2,
   "metadata": {},
   "outputs": [],
   "source": [
    "# MASTER_RANK = 0\n",
    "device = torch.device(\"cuda:0\")"
   ]
  },
  {
   "cell_type": "code",
   "execution_count": 3,
   "metadata": {
    "code_folding": [
     0,
     17
    ]
   },
   "outputs": [],
   "source": [
    "def crossover(population, prob_crossover=0.8):\n",
    "    new_population = []\n",
    "    for i, hparams_1 in enumerate(population):\n",
    "        if random.uniform(0, 1) <= prob_crossover:\n",
    "            idx_2 = random.choice([j for j in range(len(population)) if j != i])\n",
    "            hparams_2 = population[idx_2]\n",
    "            num_rv_from_h1 = random.randint(1, len(hparams_1))\n",
    "            rvs = []\n",
    "            for i in range(len(hparams_1)):\n",
    "                if i < num_rv_from_h1:\n",
    "                    rvs.append(hparams_1[i].copy())\n",
    "                else:\n",
    "                    rvs.append(hparams_2[i].copy())\n",
    "            child = HyperParams(rvs)\n",
    "            new_population.append(child)\n",
    "    return new_population\n",
    "\n",
    "def mutation(population, prob_mutation=0.2):\n",
    "    new_population = []\n",
    "    for hparams in population:\n",
    "        new_rvs = []\n",
    "        for i, rv in enumerate(hparams.rvs):\n",
    "            if random.uniform(0, 1) <= prob_mutation:\n",
    "                if isinstance(rv, CRV):\n",
    "                    mean = rv.value\n",
    "                    std = np.std( [h.rvs[i].value for h in population] )\n",
    "                    rv_new = rv.copy()\n",
    "                    rv_new.value = np.random.normal(mean, std, 1).clip(\n",
    "                        rv.low, rv.high).item()\n",
    "                    new_rvs.append(rv_new)\n",
    "                if isinstance(rv, DRV):\n",
    "                    rv_new = rv.copy()\n",
    "                    rv_new.value = random.choices(rv.choices)[0]\n",
    "                    new_rvs.append(rv_new)\n",
    "            else:\n",
    "                new_rvs.append(rv.copy())\n",
    "        hparams_new = HyperParams(new_rvs)\n",
    "        if hparams_new != hparams:\n",
    "            new_population.append(hparams_new)\n",
    "    return new_population"
   ]
  },
  {
   "cell_type": "code",
   "execution_count": 4,
   "metadata": {
    "code_folding": [
     36,
     48,
     92
    ]
   },
   "outputs": [],
   "source": [
    "def evaluate_popuation(population, mpiWorld, pbars):\n",
    "    local_population = population\n",
    "    local_fitness = []\n",
    "    # Evaluate HyperParameters\n",
    "    for i, hparams in enumerate(local_population):\n",
    "        # if mpiWorld.isMaster():\n",
    "        if True:\n",
    "            pbars['search'].set_postfix({\n",
    "                \"Best\":\"{:.2f}%\".format(get_best_acc(resultDict)), \n",
    "                \"Progress\":\"({}/{})\".format(i+1, len(local_population))\n",
    "            })\n",
    "\n",
    "        # Get Hyper-Parameters\n",
    "        lr, dr = hparams[0].value, hparams[1].value\n",
    "        # Train MNIST\n",
    "        #acc = train_mnist(lr=lr, dr=dr, device=device, pbars=pbars)\n",
    "        acc = train_mnist(lr=lr, mmt=dr, device=device, pbars=pbars)\n",
    "        # acc = 1 - (lr-0.052)**2 - (dr-0.25)**2\n",
    "        local_fitness.append(acc)\n",
    "        \n",
    "    return local_population, local_fitness\n",
    "\n",
    "def get_unevaluated_population(population, resultDict):\n",
    "    #if mpiWorld.isMaster():\n",
    "    if True:\n",
    "        unevaluated_population = []\n",
    "        for hyperparams in population:\n",
    "            key = hyperparams\n",
    "            if key not in resultDict:\n",
    "                unevaluated_population.append(hyperparams)\n",
    "        return unevaluated_population\n",
    "    else:\n",
    "        return None\n",
    "\n",
    "def generation(population, mpiWorld, resultDict, pbars):\n",
    "    population_dict = {}\n",
    "    #if mpiWorld.isMaster():\n",
    "    if True:\n",
    "        population_dict['start'] = population\n",
    "        population_size = len(population)\n",
    "\n",
    "        # === 1. Crossover === #\n",
    "        population_crossover = crossover(population)\n",
    "        population_dict['crossover'] = population_crossover\n",
    "        population += population_crossover\n",
    "        # print(\"\\n\", population_size, len(population), \"\\n\")\n",
    "\n",
    "        # ===  2. Mutation === #\n",
    "        population_mutation = mutation(population)\n",
    "        population_dict['mutation'] = population_mutation\n",
    "        population += population_mutation \n",
    "        population = list(set(population))\n",
    "        # print(\"\\n\", population_size, len(population), \"\\n\")\n",
    "\n",
    "    # === 3. Selcetion === #\n",
    "    # Evaluate Unevaluated Hypermeters  \n",
    "    unevaluated_population = get_unevaluated_population(population, resultDict)\n",
    "    unevaluated_population, fitness = evaluate_popuation(\n",
    "        unevaluated_population, mpiWorld, pbars)\n",
    "    #if mpiWorld.isMaster():\n",
    "    if True:\n",
    "        # Update resultDict\n",
    "        for hparams, acc in zip(unevaluated_population, fitness):\n",
    "            if hparams not in resultDict:\n",
    "                key = hparams\n",
    "                resultDict[key] = acc\n",
    "                # resultDict[key] = hparams[0].value\n",
    "        # Select best\n",
    "        scores = []\n",
    "        for hparams in population:\n",
    "            key = hparams\n",
    "            scores.append(resultDict[key])\n",
    "        sort_idx = np.argsort(scores)\n",
    "        scores = [scores[i.item()] for i in sort_idx][-population_size:][::-1]\n",
    "        population = [population[i.item()] for i in sort_idx][-population_size:][::-1]\n",
    "        population_dict['selcetion'] = population\n",
    "    return population_dict\n",
    "\n",
    "def get_best_acc(resultDict):\n",
    "    best_acc = 0.0\n",
    "    for hparams, acc in resultDict.items():\n",
    "        if acc > best_acc:\n",
    "            best_acc = acc\n",
    "    return best_acc"
   ]
  },
  {
   "cell_type": "code",
   "execution_count": 5,
   "metadata": {
    "code_folding": []
   },
   "outputs": [],
   "source": [
    "# REPRODUCIBILITY\n",
    "torch.manual_seed(0)\n",
    "torch.cuda.manual_seed_all(0)\n",
    "np.random.seed(0)\n",
    "random.seed(0)\n",
    "torch.backends.cudnn.deterministic = True\n",
    "torch.backends.cudnn.benchmark = False\n",
    "\n",
    "# batch_size = 512\n",
    "# population_size = 16\n",
    "# lr = CRV(low=0, high=0.5, name=\"learning rate\")\n",
    "# dr = CRV(low=0, high=1, name=\"dropout rate\")\n",
    "# num_generation = 18"
   ]
  },
  {
   "cell_type": "code",
   "execution_count": 6,
   "metadata": {},
   "outputs": [],
   "source": [
    "population = []\n",
    "resultDict = {}\n",
    "# Init Population\n",
    "population_size = 10\n",
    "for i in range(population_size):\n",
    "    lr  = CRV(low=0, high=1.0, name=\"learning rate\")\n",
    "    dr  = CRV(low=0, high=1.0, name=\"dropout rate\")\n",
    "    mmt = CRV(low=0, high=1.0, name=\"momentum\")\n",
    "    hparams = HyperParams([lr, mmt])\n",
    "    population.append(hparams)"
   ]
  },
  {
   "cell_type": "code",
   "execution_count": 7,
   "metadata": {},
   "outputs": [],
   "source": [
    "mpiWorld = None"
   ]
  },
  {
   "cell_type": "code",
   "execution_count": null,
   "metadata": {},
   "outputs": [
    {
     "data": {
      "application/vnd.jupyter.widget-view+json": {
       "model_id": "6760e02d72ea48aaab4c6fe4e6acc05a",
       "version_major": 2,
       "version_minor": 0
      },
      "text/plain": [
       "HBox(children=(IntProgress(value=0, layout=Layout(flex='2'), max=18), HTML(value='')), layout=Layout(display='…"
      ]
     },
     "metadata": {},
     "output_type": "display_data"
    },
    {
     "data": {
      "application/vnd.jupyter.widget-view+json": {
       "model_id": "f9a760238fc94f3081378fbcfdbff557",
       "version_major": 2,
       "version_minor": 0
      },
      "text/plain": [
       "HBox(children=(IntProgress(value=1, bar_style='info', layout=Layout(flex='2'), max=1), HTML(value='')), layout…"
      ]
     },
     "metadata": {},
     "output_type": "display_data"
    },
    {
     "data": {
      "application/vnd.jupyter.widget-view+json": {
       "model_id": "61cff8ea70d24d2399012ee3a22b8110",
       "version_major": 2,
       "version_minor": 0
      },
      "text/plain": [
       "HBox(children=(IntProgress(value=1, bar_style='info', layout=Layout(flex='2'), max=1), HTML(value='')), layout…"
      ]
     },
     "metadata": {},
     "output_type": "display_data"
    }
   ],
   "source": [
    "num_generation = 18\n",
    "\n",
    "pbars = {\"search\":tqdm(ncols=800, total=num_generation, unit='generation'), \n",
    "         \"train\":tqdm(ncols=1000), \n",
    "         \"test\":tqdm(ncols=1000)}\n",
    "pbars['search'].set_description(\"Evolutionary Search\")\n",
    "population_each_generation = []\n",
    "\n",
    "for g in range(1, num_generation+1):\n",
    "    population_dict = generation(population, mpiWorld, resultDict, pbars)\n",
    "    \n",
    "    pbars['search'].update()\n",
    "    population_each_generation.append(population_dict)\n",
    "    population = population_dict[\"selcetion\"]\n",
    "#     np.set_printoptions(suppress=True)\n",
    "#     print( \"{:.8f},{:.8f}\".format(np.mean([h[0].value for h in population]), \n",
    "#       np.std([h[0].value for h in population]) ) )"
   ]
  },
  {
   "cell_type": "code",
   "execution_count": null,
   "metadata": {
    "code_folding": [
     0
    ]
   },
   "outputs": [],
   "source": [
    "def vis_population(population, label=\"\", c=None, s=None, marker=None):\n",
    "    if len(population) == 0:\n",
    "        return \n",
    "    xs = [hparams.rvs[0].value for hparams in population]\n",
    "    ys = [hparams.rvs[1].value for hparams in population]\n",
    "    if c is not None:\n",
    "        plt.scatter(xs, ys, label=label, c=c, s=s, marker=marker)\n",
    "    else:\n",
    "         plt.scatter(xs, ys, label=label)\n",
    "    if isinstance(population[0].rvs[0], DRV):\n",
    "        plt.xticks(list(set(xs)))\n",
    "    if isinstance(population[0].rvs[1], DRV):\n",
    "        plt.yticks(list(set(ys)))"
   ]
  },
  {
   "cell_type": "code",
   "execution_count": null,
   "metadata": {},
   "outputs": [],
   "source": [
    "plt.figure(figsize=(10,10))\n",
    "offset = len(population_each_generation) / 9\n",
    "display_idx = [int(i*offset) for i in range(9)]\n",
    "for cnt, i in enumerate(display_idx):\n",
    "    plt.subplot(3, 3, cnt+1)\n",
    "    vis_population(population_each_generation[i]['start'], \n",
    "                   c='blue', marker=\"x\")\n",
    "    vis_population(population_each_generation[i]['crossover'], \n",
    "                   c='purple', marker=\"x\")\n",
    "    vis_population(population_each_generation[i]['selcetion'], \n",
    "                   c='green', marker=\"x\")\n",
    "    if cnt ==0:\n",
    "        plt.legend(loc='best')\n",
    "    offset = 0.1\n",
    "    plt.xlim(population[0][0].low-offset, population[0][0].high+offset)\n",
    "    plt.ylim(population[0][1].low-offset, population[0][1].high+offset)\n",
    "    plt.title(\"Generation : {}\".format(i+1))\n",
    "plt.show()\n",
    "population_each_generation[-1]['selcetion']"
   ]
  },
  {
   "cell_type": "code",
   "execution_count": null,
   "metadata": {},
   "outputs": [],
   "source": [
    "hyperparams = []\n",
    "results = []\n",
    "for hparams, acc in resultDict.items():\n",
    "    lr, dr = hparams[0].value, hparams[1].value \n",
    "    hyperparams.append((lr, dr))\n",
    "    results.append(acc)\n",
    "vis_search(hyperparams, results)\n",
    "print(len(resultDict))"
   ]
  },
  {
   "cell_type": "code",
   "execution_count": null,
   "metadata": {},
   "outputs": [],
   "source": []
  },
  {
   "cell_type": "code",
   "execution_count": null,
   "metadata": {},
   "outputs": [],
   "source": []
  }
 ],
 "metadata": {
  "kernelspec": {
   "display_name": "Python 3",
   "language": "python",
   "name": "python3"
  },
  "language_info": {
   "codemirror_mode": {
    "name": "ipython",
    "version": 3
   },
   "file_extension": ".py",
   "mimetype": "text/x-python",
   "name": "python",
   "nbconvert_exporter": "python",
   "pygments_lexer": "ipython3",
   "version": "3.6.7"
  },
  "varInspector": {
   "cols": {
    "lenName": 16,
    "lenType": 16,
    "lenVar": 40
   },
   "kernels_config": {
    "python": {
     "delete_cmd_postfix": "",
     "delete_cmd_prefix": "del ",
     "library": "var_list.py",
     "varRefreshCmd": "print(var_dic_list())"
    },
    "r": {
     "delete_cmd_postfix": ") ",
     "delete_cmd_prefix": "rm(",
     "library": "var_list.r",
     "varRefreshCmd": "cat(var_dic_list()) "
    }
   },
   "types_to_exclude": [
    "module",
    "function",
    "builtin_function_or_method",
    "instance",
    "_Feature"
   ],
   "window_display": false
  }
 },
 "nbformat": 4,
 "nbformat_minor": 2
}
